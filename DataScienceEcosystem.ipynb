{
 "cells": [
  {
   "cell_type": "markdown",
   "id": "fd9e2c30-28f4-4d02-8a50-7cd1f4898b34",
   "metadata": {
    "tags": []
   },
   "source": [
    "# Data Science Tools ans Ecosystem"
   ]
  },
  {
   "cell_type": "markdown",
   "id": "aee44ad6-c5dd-4da8-956d-fabe1be8d491",
   "metadata": {},
   "source": [
    "In this notebook, Data Science Tools and Ecosystem are summarized."
   ]
  },
  {
   "cell_type": "markdown",
   "id": "05dec03c-2c41-45a5-b17b-18bbda55199a",
   "metadata": {},
   "source": [
    "**Objectives**\n",
    "- Popular languages of Data Science\n",
    "- Commonly used libraries for Data Science\n",
    "- Open Source Data Science Tools \n",
    "- Executing code in Jupyter Notebooks"
   ]
  },
  {
   "cell_type": "markdown",
   "id": "e4ee38ce-bc4c-4834-8ea8-fb08fb2e4221",
   "metadata": {},
   "source": [
    "Some of the popular languages Data Scientists use are:\n",
    "1. Python\n",
    "2. R\n",
    "3. SQL"
   ]
  },
  {
   "cell_type": "markdown",
   "id": "f7344ee4-5fbd-4716-a25c-fceb457cb226",
   "metadata": {},
   "source": [
    "Some of the commonly used libraries used by Data Scientists include:\n",
    "\n",
    "1. pandas\n",
    "2. numpy\n",
    "3. seaborn\n"
   ]
  },
  {
   "cell_type": "markdown",
   "id": "ea988d2e-d946-4d35-839a-667118b65c11",
   "metadata": {},
   "source": [
    "|Data Science Tools|\n",
    "|------------------|\n",
    "|RStudio|\n",
    "|Jupyter Notebooks|\n",
    "|VSCode|"
   ]
  },
  {
   "cell_type": "markdown",
   "id": "d01833b6-ae2e-456d-9491-2f89da41efea",
   "metadata": {},
   "source": [
    "### Below are a few examples of evaluating arithmetic expressions in Python"
   ]
  },
  {
   "cell_type": "code",
   "execution_count": 2,
   "id": "f58c5676-c916-487c-b72f-d1210507f164",
   "metadata": {
    "tags": []
   },
   "outputs": [
    {
     "data": {
      "text/plain": [
       "17"
      ]
     },
     "execution_count": 2,
     "metadata": {},
     "output_type": "execute_result"
    }
   ],
   "source": [
    "#This a simple arithmetic expression to mutiply then add integers\n",
    "(3*4)+5"
   ]
  },
  {
   "cell_type": "code",
   "execution_count": 14,
   "id": "4476cbe7-ab0d-4be2-81eb-ed84c049eadd",
   "metadata": {
    "tags": []
   },
   "outputs": [
    {
     "name": "stdout",
     "output_type": "stream",
     "text": [
      "200 minutes are\n",
      "3.3333333333333335\n",
      "hours\n"
     ]
    }
   ],
   "source": [
    "#This will convert 200 minutes to hours by diving by 60\n",
    "minutes = 200\n",
    "hours = minutes/60\n",
    "print(\"200 minutes are\")\n",
    "print(hours)\n",
    "print(\"hours\")\n"
   ]
  },
  {
   "cell_type": "markdown",
   "id": "51580b73-dac5-4fb2-94bd-4ab75a4ead32",
   "metadata": {},
   "source": [
    "## Author\n",
    "Marc Mozer"
   ]
  }
 ],
 "metadata": {
  "kernelspec": {
   "display_name": "Python",
   "language": "python",
   "name": "conda-env-python-py"
  },
  "language_info": {
   "codemirror_mode": {
    "name": "ipython",
    "version": 3
   },
   "file_extension": ".py",
   "mimetype": "text/x-python",
   "name": "python",
   "nbconvert_exporter": "python",
   "pygments_lexer": "ipython3",
   "version": "3.7.12"
  }
 },
 "nbformat": 4,
 "nbformat_minor": 5
}
